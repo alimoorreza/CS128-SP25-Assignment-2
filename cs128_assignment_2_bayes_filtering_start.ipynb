{
  "nbformat": 4,
  "nbformat_minor": 0,
  "metadata": {
    "colab": {
      "provenance": [],
      "authorship_tag": "ABX9TyMAd+sJwplrRwYWbyFhM1pO",
      "include_colab_link": true
    },
    "kernelspec": {
      "name": "python3",
      "display_name": "Python 3"
    },
    "language_info": {
      "name": "python"
    }
  },
  "cells": [
    {
      "cell_type": "markdown",
      "metadata": {
        "id": "view-in-github",
        "colab_type": "text"
      },
      "source": [
        "<a href=\"https://colab.research.google.com/github/alimoorreza/CS128-SP25-Assignment-2/blob/main/cs128_assignment_2_bayes_filtering_start.ipynb\" target=\"_parent\"><img src=\"https://colab.research.google.com/assets/colab-badge.svg\" alt=\"Open In Colab\"/></a>"
      ]
    },
    {
      "cell_type": "code",
      "source": [
        "import numpy as np"
      ],
      "metadata": {
        "id": "SgoeFZNrbt_1"
      },
      "execution_count": 1,
      "outputs": []
    },
    {
      "cell_type": "markdown",
      "source": [
        "###**Prior belief: $bel(X_0)$**\n",
        "Belief reflects the robot’s internal knowledge about the state of the environment. Robot is estimating the state of the door using its camera sensor and manipulator. State $X_0$ can have one of two possible values: *{is_open, is_closed}*"
      ],
      "metadata": {
        "id": "coBNQGUXftKO"
      }
    },
    {
      "cell_type": "code",
      "execution_count": 79,
      "metadata": {
        "colab": {
          "base_uri": "https://localhost:8080/"
        },
        "id": "kGqmF8C5bYLO",
        "outputId": "4e4ceacd-2a64-418d-cba3-e7c25412b2e3"
      },
      "outputs": [
        {
          "output_type": "stream",
          "name": "stdout",
          "text": [
            "[0.5 0.5]\n"
          ]
        }
      ],
      "source": [
        "# bel_bar(x) computation\n",
        "bel_xt    = np.zeros(2)\n",
        "bel_xt[0] = 0.5 # bel_x0(X_0=is_open)\n",
        "bel_xt[1] = 0.5 # bel_x0(X_0=is_closed)\n",
        "print(bel_xt)"
      ]
    },
    {
      "cell_type": "markdown",
      "source": [
        "\n",
        "###**Measurement probability distribution: $p(z_t|x_t)$**\n",
        "It is probabilistic law according to which measurements are generated from the environment state $x$. The sensor measurement has two outcomes *{sense_open, sense_closed}*. Let's assume our sensor is noisy ie, when the robot is in a particular state, the sensor can predict the status of the door with some probability."
      ],
      "metadata": {
        "id": "RwEcFWFlgVQ6"
      }
    },
    {
      "cell_type": "code",
      "source": [
        "measurement_prob    = np.zeros(4)\n",
        "measurement_prob[0] = 0.6   # p(zt_sense_open  | xt=is_open)\n",
        "measurement_prob[1] = 0.4   # p(zt_sense_close | xt=is_open)\n",
        "measurement_prob[2] = 0.2   # p(zt_sense_open  | xt=is_close)\n",
        "measurement_prob[3] = 0.8   # p(zt_sense_close | xt=is_close)\n",
        "print(measurement_prob)"
      ],
      "metadata": {
        "colab": {
          "base_uri": "https://localhost:8080/"
        },
        "id": "kDYu0iFKgwBZ",
        "outputId": "eb5e3952-d033-41c9-b672-fb34b5e11bb8"
      },
      "execution_count": 80,
      "outputs": [
        {
          "output_type": "stream",
          "name": "stdout",
          "text": [
            "[0.6 0.4 0.2 0.8]\n"
          ]
        }
      ]
    },
    {
      "cell_type": "markdown",
      "source": [
        "###**State transition probability distribution $p(x_t|x_{t-1}, u_t)$**\n",
        "It denotes how the environment states evolve over time as a function of robot control $u$. Let's assume that the robot's control has two values *{push, do_nothing}*. Robot uses its manipulator with *{push}* control then the state transition probabilities are as follows:"
      ],
      "metadata": {
        "id": "S4zLL3KwiIsm"
      }
    },
    {
      "cell_type": "code",
      "source": [
        "state_transition_prob       = np.zeros((2, 4))\n",
        "state_transition_prob[0, 0] = 1.0   # p(xt_is_open  | xt-1=is_open,  ut = push)\n",
        "state_transition_prob[0, 1] = 0.0   # p(xt_is_close | xt-1=is_open,  ut = push)\n",
        "state_transition_prob[0, 2] = 0.8   # p(xt_is_open  | xt-1=is_close, ut = push)\n",
        "state_transition_prob[0, 3] = 0.2   # p(xt_is_close | xt-1=is_close, ut = push)\n",
        "print(state_transition_prob)"
      ],
      "metadata": {
        "colab": {
          "base_uri": "https://localhost:8080/"
        },
        "id": "czOHki2Xiy8r",
        "outputId": "29f11921-7b4f-4e06-f2c1-5fb09c62a669"
      },
      "execution_count": 81,
      "outputs": [
        {
          "output_type": "stream",
          "name": "stdout",
          "text": [
            "[[1.  0.  0.8 0.2]\n",
            " [0.  0.  0.  0. ]]\n"
          ]
        }
      ]
    },
    {
      "cell_type": "code",
      "source": [
        "state_transition_prob[1, 0] = 1.0   # p(xt_is_open  | xt-1=is_open,  ut = do_nothing)\n",
        "state_transition_prob[1, 1] = 0.0   # p(xt_is_close | xt-1=is_open,  ut = do_nothing)\n",
        "state_transition_prob[1, 2] = 0.0   # p(xt_is_open  | xt-1=is_close, ut = do_nothing)\n",
        "state_transition_prob[1, 3] = 1.0   # p(xt_is_close | xt-1=is_close, ut = do_nothing)\n",
        "print(state_transition_prob)"
      ],
      "metadata": {
        "colab": {
          "base_uri": "https://localhost:8080/"
        },
        "id": "LZpAzfbNklXR",
        "outputId": "2da6ef2a-a554-4b4b-e0c3-976ea87b858c"
      },
      "execution_count": 82,
      "outputs": [
        {
          "output_type": "stream",
          "name": "stdout",
          "text": [
            "[[1.  0.  0.8 0.2]\n",
            " [1.  0.  0.  1. ]]\n"
          ]
        }
      ]
    },
    {
      "cell_type": "markdown",
      "source": [
        "###**Bayes Filter Algorithm for state estimation**\n",
        "<div>\n",
        "<img src=\"https://analytics.drake.edu/~reza/teaching/cs128_sp25/bayes_filter_algorithm1.png\" width=450/>\n",
        "</div>"
      ],
      "metadata": {
        "id": "i7IcLdaMlfjs"
      }
    },
    {
      "cell_type": "markdown",
      "source": [
        "##Task#1  (4 points): Calculate posterior belief: $bel(x_1)$\n",
        "Robot at time **t=1** uses manipulator control value *{do_nothing}* and robot's camera sensor at time t=1 senses a measurement value *{sense_open}*.\n",
        "\n",
        "> Calculate the resulting posterior belief $bel(x_1)$ is calculated by Bayes Filter Algorithm.\n",
        "\n",
        "> According to its posterior belief, what does the robot infer about whether the **door remains open or closes**?\n",
        "\n",
        "Hint: You need to calculate the *Prediction step* and then *Measurement update step* as follows:\n",
        "<div>\n",
        "<img src=\"https://analytics.drake.edu/~reza/teaching/cs128_sp25/bayes_filter_algorithm2.png\" width=450/>\n",
        "</div>"
      ],
      "metadata": {
        "id": "xJgU-nzNmotF"
      }
    },
    {
      "cell_type": "code",
      "source": [
        "# Prediction step: bel_xt_bar(x) computation\n",
        "# Hint: look up the state_transition_prob (above) values to find the appropriate transition probabilities\n",
        "\n",
        "bel_xt_bar        = np.zeros(2)\n",
        "'''\n",
        "# bel_xt_bar(X_1=is_open)\n",
        "bel_xt_bar(X_1=is_open)     = p(x1_is_open  | x0=is_open,  ut = do_nothing)*bel_x0(X_0=is_open) +\n",
        "                              p(x1_is_open  | x0=is_close,  ut = do_nothing)*bel_x0(X_0=is_close)\n",
        "'''\n",
        "bel_xt_bar[0]     = ?\n",
        "\n",
        "\n",
        "\n",
        "'''\n",
        "# bel_xt_bar(X_1=is_closed)\n",
        "bel_xt_bar(X_1=is_closed)   = p(x1_is_closed  | x0=is_open,  ut = do_nothing)*bel_x0(X_0=is_open) +\n",
        "                              p(x1_is_closed  | x0=is_close,  ut = do_nothing)*bel_x0(X_0=is_close)\n",
        "'''\n",
        "\n",
        "bel_xt_bar[1]     = ?\n",
        "print(bel_xt_bar)"
      ],
      "metadata": {
        "id": "FCT4dQLOoKx8"
      },
      "execution_count": null,
      "outputs": []
    },
    {
      "cell_type": "code",
      "source": [
        "# Measurement update step: bel_xt(x) computation\n",
        "# Hint: look up the measurement_prob (above) values to find the appropriate measurement probabilities\n",
        "\n",
        "'''\n",
        "measurement_prob[0] = 0.6   # p(zt_sense_open  | xt=is_open)\n",
        "measurement_prob[1] = 0.4   # p(zt_sense_close | xt=is_open)\n",
        "measurement_prob[2] = 0.2   # p(zt_sense_open  | xt=is_close)\n",
        "measurement_prob[3] = 0.8   # p(zt_sense_close | xt=is_close)\n",
        "print(measurement_prob)\n",
        "'''\n",
        "\n",
        "'''\n",
        "# bel_xt(X_1=is_open)\n",
        "bel_xt(X_1=is_open)     = eta * p(z1_sense_open | x1_is_open)*bel_xt_bar(X_1=is_open)\n",
        "'''\n",
        "bel_xt[0]       = ?\n",
        "\n",
        "\n",
        "'''\n",
        "# bel_xt(X_1=is_close)\n",
        "bel_xt(X_1=is_open)     = eta * p(z1_sense_open | x1_is_close)*bel_xt_bar(X_1=is_close)\n",
        "'''\n",
        "bel_xt[1]       = ?\n",
        "\n",
        "print(bel_xt)\n",
        "\n",
        "norm_constant = (bel_xt[0] + bel_xt[1])\n",
        "print(norm_constant)\n",
        "\n",
        "# normalized posterior probability\n",
        "bel_xt = bel_xt/norm_constant\n",
        "print('Posterior belief bel(x1): ', bel_xt)"
      ],
      "metadata": {
        "colab": {
          "base_uri": "https://localhost:8080/"
        },
        "id": "7RI526f-t9sf",
        "outputId": "f2f405c1-15ed-4ee2-ac0a-5e81178b2c69"
      },
      "execution_count": 84,
      "outputs": [
        {
          "output_type": "stream",
          "name": "stdout",
          "text": [
            "[0.3 0.1]\n",
            "0.4\n",
            "Posterior belief bel(x1):  [0.75 0.25]\n"
          ]
        }
      ]
    },
    {
      "cell_type": "markdown",
      "source": [
        "##Task#2  (4 points): Calculate posterior belief: $bel(x_2)$\n",
        "Robot at time **t=2** uses manipulator control value *{push}* and robot's camera sensor at time t=1 senses a measurement value *{sense_open}*.\n",
        "\n",
        "\n",
        "> Calculate the resulting posterior belief $bel(x_2)$ is calculated by Bayes Filter Algorithm.\n",
        "\n",
        "> According to its posterior belief, what does the robot infer about whether the **door remains open or closes**?"
      ],
      "metadata": {
        "id": "ltgMkuMxwmo9"
      }
    },
    {
      "cell_type": "code",
      "source": [
        "# Prediction step: bel_xt_bar(x) computation\n",
        "# Hint: look up the state_transition_prob (above) values to find the appropriate transition probabilities\n",
        "'''\n",
        "state_transition_prob[0, 0] = 1.0   # p(xt_is_open  | xt-1=is_open,  ut = push)\n",
        "state_transition_prob[0, 1] = 0.0   # p(xt_is_close | xt-1=is_open,  ut = push)\n",
        "state_transition_prob[0, 2] = 0.8   # p(xt_is_open  | xt-1=is_close, ut = push)\n",
        "state_transition_prob[0, 3] = 0.2   # p(xt_is_close | xt-1=is_close, ut = push)\n",
        "'''\n",
        "\n",
        "'''\n",
        "# bel_xt_bar(X_1=is_open)\n",
        "'''\n",
        "bel_xt_bar[0]     = ?\n",
        "\n",
        "\n",
        "'''\n",
        "# bel_xt_bar(X_1=is_closed)\n",
        "'''\n",
        "\n",
        "bel_xt_bar[0]     = ?\n",
        "\n"
      ],
      "metadata": {
        "colab": {
          "base_uri": "https://localhost:8080/"
        },
        "id": "344BsW1rxFLG",
        "outputId": "6885b1f2-e0eb-4b3c-e8a3-970ceed0fac7"
      },
      "execution_count": 85,
      "outputs": [
        {
          "output_type": "stream",
          "name": "stdout",
          "text": [
            "[0.95 0.05]\n"
          ]
        }
      ]
    },
    {
      "cell_type": "code",
      "source": [
        "# Measurement update step: bel_xt(x) computation\n",
        "# Hint: look up the measurement_prob (above) values to find the appropriate measurement probabilities\n",
        "\n",
        "'''\n",
        "measurement_prob[0] = 0.6   # p(zt_sense_open  | xt=is_open)\n",
        "measurement_prob[1] = 0.4   # p(zt_sense_close | xt=is_open)\n",
        "measurement_prob[2] = 0.2   # p(zt_sense_open  | xt=is_close)\n",
        "measurement_prob[3] = 0.8   # p(zt_sense_close | xt=is_close)\n",
        "print(measurement_prob)\n",
        "'''\n",
        "\n",
        "'''\n",
        "# bel_xt(X_1=is_open)\n",
        "'''\n",
        "bel_xt[0]       = ?\n",
        "\n",
        "\n",
        "'''\n",
        "# bel_xt(X_1=is_close)\n",
        "'''\n",
        "bel_xt[1]       = ?\n"
      ],
      "metadata": {
        "id": "JcMq8D0CzSjq"
      },
      "execution_count": null,
      "outputs": []
    }
  ]
}